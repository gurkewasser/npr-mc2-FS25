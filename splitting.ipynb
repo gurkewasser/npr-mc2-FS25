{
 "cells": [
  {
   "cell_type": "markdown",
   "id": "151c7c06",
   "metadata": {},
   "source": [
    "### 📊 Dataset Preparation Summary\n",
    "\n",
    "To make the large Amazon Polarity dataset more manageable and suitable for experimentation in a semi-supervised learning setup, we created a balanced and downsized subset of **4,000 samples**. This subset was split as follows:\n",
    "\n",
    "- **Validation Set**: 400 samples (200 positive, 200 negative)  \n",
    "- **Labeled Training Set**: 300 samples (150 positive, 150 negative)  \n",
    "- **Unlabeled Training Set**: 3,300 samples (1,650 positive, 1,650 negative)\n",
    "\n",
    "Each subset maintains a **50/50 class balance** to ensure fairness during training and evaluation.\n",
    "\n",
    "The splits were saved in `.parquet` format to the `/data` directory for efficient storage and faster I/O operations during development.\n",
    "\n",
    "This setup enables easy experimentation with semi-supervised learning approaches, where only a small fraction of the data is labeled."
   ]
  },
  {
   "cell_type": "code",
   "execution_count": 10,
   "id": "6f76de44",
   "metadata": {},
   "outputs": [
    {
     "name": "stdout",
     "output_type": "stream",
     "text": [
      "Validation: Counter({0: 200, 1: 200})\n",
      "Labeled: Counter({0: 150, 1: 150})\n",
      "Unlabeled: Counter({0: 1650, 1: 1650})\n",
      "Total samples: 4000\n"
     ]
    }
   ],
   "source": [
    "from datasets import load_dataset, Dataset, DatasetDict\n",
    "from collections import Counter\n",
    "import random\n",
    "\n",
    "# Load and shuffle dataset\n",
    "dataset = load_dataset(\"fancyzhx/amazon_polarity\", split=\"train\").shuffle(seed=42)\n",
    "\n",
    "# Separate by label\n",
    "positives = [x for x in dataset if x['label'] == 1]\n",
    "negatives = [x for x in dataset if x['label'] == 0]\n",
    "\n",
    "# Take only 2000 positive and 2000 negative\n",
    "positives = positives[:2000]\n",
    "negatives = negatives[:2000]\n",
    "\n",
    "# 200 pos + 200 neg for validation\n",
    "val_pos = positives[:200]\n",
    "val_neg = negatives[:200]\n",
    "\n",
    "# 150 pos + 150 neg for labeled\n",
    "labeled_pos = positives[200:350]\n",
    "labeled_neg = negatives[200:350]\n",
    "\n",
    "# 1650 pos + 1650 neg for unlabeled\n",
    "unlabeled_pos = positives[350:2000]\n",
    "unlabeled_neg = negatives[350:2000]\n",
    "\n",
    "# Convert to HF Datasets\n",
    "validation = Dataset.from_list(val_pos + val_neg).shuffle(seed=42)\n",
    "labeled = Dataset.from_list(labeled_pos + labeled_neg).shuffle(seed=42)\n",
    "unlabeled = Dataset.from_list(unlabeled_pos + unlabeled_neg).shuffle(seed=42)\n",
    "\n",
    "# Wrap into DatasetDict\n",
    "final_dataset = DatasetDict({\n",
    "    \"validation\": validation,\n",
    "    \"labeled\": labeled,\n",
    "    \"unlabeled\": unlabeled\n",
    "})\n",
    "\n",
    "# Check counts\n",
    "print(\"Validation:\", Counter(final_dataset[\"validation\"][\"label\"]))\n",
    "print(\"Labeled:\", Counter(final_dataset[\"labeled\"][\"label\"]))\n",
    "print(\"Unlabeled:\", Counter(final_dataset[\"unlabeled\"][\"label\"]))\n",
    "total = len(validation) + len(labeled) + len(unlabeled)\n",
    "print(\"Total samples:\", total)"
   ]
  },
  {
   "cell_type": "markdown",
   "id": "43542983",
   "metadata": {},
   "source": [
    "Save the splits"
   ]
  },
  {
   "cell_type": "code",
   "execution_count": 12,
   "id": "f1362c1b",
   "metadata": {},
   "outputs": [
    {
     "data": {
      "application/vnd.jupyter.widget-view+json": {
       "model_id": "7dc09880a1924b7e8caebedd1aab0235",
       "version_major": 2,
       "version_minor": 0
      },
      "text/plain": [
       "Creating parquet from Arrow format:   0%|          | 0/1 [00:00<?, ?ba/s]"
      ]
     },
     "metadata": {},
     "output_type": "display_data"
    },
    {
     "data": {
      "application/vnd.jupyter.widget-view+json": {
       "model_id": "cc60dadd82b64d009d50cc3ec49e6d9b",
       "version_major": 2,
       "version_minor": 0
      },
      "text/plain": [
       "Creating parquet from Arrow format:   0%|          | 0/1 [00:00<?, ?ba/s]"
      ]
     },
     "metadata": {},
     "output_type": "display_data"
    },
    {
     "data": {
      "application/vnd.jupyter.widget-view+json": {
       "model_id": "03d3f57aa9514f33ab05499069890e73",
       "version_major": 2,
       "version_minor": 0
      },
      "text/plain": [
       "Creating parquet from Arrow format:   0%|          | 0/4 [00:00<?, ?ba/s]"
      ]
     },
     "metadata": {},
     "output_type": "display_data"
    },
    {
     "data": {
      "text/plain": [
       "1460690"
      ]
     },
     "execution_count": 12,
     "metadata": {},
     "output_type": "execute_result"
    }
   ],
   "source": [
    "import os\n",
    "\n",
    "os.makedirs(\"data\", exist_ok=True)\n",
    "\n",
    "# save each split to data\n",
    "final_dataset[\"validation\"].to_parquet(\"data/validation.parquet\")\n",
    "final_dataset[\"labeled\"].to_parquet(\"data/labeled.parquet\")\n",
    "final_dataset[\"unlabeled\"].to_parquet(\"data/unlabeled.parquet\")"
   ]
  }
 ],
 "metadata": {
  "kernelspec": {
   "display_name": "npr_mc2_hs24",
   "language": "python",
   "name": "python3"
  },
  "language_info": {
   "codemirror_mode": {
    "name": "ipython",
    "version": 3
   },
   "file_extension": ".py",
   "mimetype": "text/x-python",
   "name": "python",
   "nbconvert_exporter": "python",
   "pygments_lexer": "ipython3",
   "version": "3.9.20"
  }
 },
 "nbformat": 4,
 "nbformat_minor": 5
}
