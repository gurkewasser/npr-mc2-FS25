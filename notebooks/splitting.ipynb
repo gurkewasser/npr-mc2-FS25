{
 "cells": [
  {
   "cell_type": "markdown",
   "id": "151c7c06",
   "metadata": {},
   "source": [
    "### 📊 Dataset Preparation Summary\n",
    "\n",
    "To make the large Amazon Polarity dataset more manageable and suitable for experimentation in a semi-supervised learning setup, we created a balanced and downsized subset of **4,000 samples**. This subset was split as follows:\n",
    "\n",
    "- **Validation Set**: 400 samples (200 positive, 200 negative)  \n",
    "- **Labeled Training Set**: 300 samples (150 positive, 150 negative)  \n",
    "- **Unlabeled Training Set**: 3,300 samples (1,650 positive, 1,650 negative)\n",
    "\n",
    "Each subset maintains a **50/50 class balance** to ensure fairness during training and evaluation.\n",
    "\n",
    "The splits were saved in `.parquet` format to the `/data` directory for efficient storage and faster I/O operations during development.\n",
    "\n",
    "This setup enables easy experimentation with semi-supervised learning approaches, where only a small fraction of the data is labeled."
   ]
  },
  {
   "cell_type": "code",
   "execution_count": 1,
   "id": "6f76de44",
   "metadata": {},
   "outputs": [
    {
     "name": "stdout",
     "output_type": "stream",
     "text": [
      "Validation: Counter({1: 400, 0: 400})\n",
      "Labeled: Counter({0: 300, 1: 300})\n",
      "Unlabeled: Counter({0: 3300, 1: 3300})\n",
      "Total samples: 8000\n"
     ]
    }
   ],
   "source": [
    "from datasets import load_dataset, Dataset, DatasetDict\n",
    "from collections import Counter\n",
    "import random\n",
    "\n",
    "# Load and shuffle dataset\n",
    "dataset = load_dataset(\"fancyzhx/amazon_polarity\", split=\"train\").shuffle(seed=42)\n",
    "\n",
    "# Separate by label\n",
    "positives = [x for x in dataset if x['label'] == 1]\n",
    "negatives = [x for x in dataset if x['label'] == 0]\n",
    "\n",
    "# Take only 4000 positive and 4000 negative (double the previous 2000)\n",
    "positives = positives[:4000]\n",
    "negatives = negatives[:4000]\n",
    "\n",
    "# 400 pos + 400 neg for validation (double the previous 200)\n",
    "val_pos = positives[:400]\n",
    "val_neg = negatives[:400]\n",
    "\n",
    "# 300 pos + 300 neg for labeled (double the previous 150)\n",
    "labeled_pos = positives[400:700]\n",
    "labeled_neg = negatives[400:700]\n",
    "\n",
    "# 3300 pos + 3300 neg for unlabeled (double the previous 1650)\n",
    "unlabeled_pos = positives[700:4000]\n",
    "unlabeled_neg = negatives[700:4000]\n",
    "\n",
    "# Convert to HF Datasets\n",
    "validation = Dataset.from_list(val_pos + val_neg).shuffle(seed=42)\n",
    "labeled = Dataset.from_list(labeled_pos + labeled_neg).shuffle(seed=42)\n",
    "unlabeled = Dataset.from_list(unlabeled_pos + unlabeled_neg).shuffle(seed=42)\n",
    "\n",
    "# Wrap into DatasetDict\n",
    "final_dataset = DatasetDict({\n",
    "    \"validation\": validation,\n",
    "    \"labeled\": labeled,\n",
    "    \"unlabeled\": unlabeled\n",
    "})\n",
    "\n",
    "# Check counts\n",
    "print(\"Validation:\", Counter(final_dataset[\"validation\"][\"label\"]))\n",
    "print(\"Labeled:\", Counter(final_dataset[\"labeled\"][\"label\"]))\n",
    "print(\"Unlabeled:\", Counter(final_dataset[\"unlabeled\"][\"label\"]))\n",
    "total = len(validation) + len(labeled) + len(unlabeled)\n",
    "print(\"Total samples:\", total)"
   ]
  },
  {
   "cell_type": "markdown",
   "id": "43542983",
   "metadata": {},
   "source": [
    "Save the splits"
   ]
  },
  {
   "cell_type": "code",
   "execution_count": 2,
   "id": "f1362c1b",
   "metadata": {},
   "outputs": [
    {
     "data": {
      "application/vnd.jupyter.widget-view+json": {
       "model_id": "ddf9ea0217b6412abb51bfbaa3d8df4a",
       "version_major": 2,
       "version_minor": 0
      },
      "text/plain": [
       "Creating parquet from Arrow format:   0%|          | 0/1 [00:00<?, ?ba/s]"
      ]
     },
     "metadata": {},
     "output_type": "display_data"
    },
    {
     "data": {
      "application/vnd.jupyter.widget-view+json": {
       "model_id": "9f47c4cebb424bb789e312a82d1e7f73",
       "version_major": 2,
       "version_minor": 0
      },
      "text/plain": [
       "Creating parquet from Arrow format:   0%|          | 0/1 [00:00<?, ?ba/s]"
      ]
     },
     "metadata": {},
     "output_type": "display_data"
    },
    {
     "data": {
      "application/vnd.jupyter.widget-view+json": {
       "model_id": "04ce0556456f4462a7b6fa997aec26e3",
       "version_major": 2,
       "version_minor": 0
      },
      "text/plain": [
       "Creating parquet from Arrow format:   0%|          | 0/7 [00:00<?, ?ba/s]"
      ]
     },
     "metadata": {},
     "output_type": "display_data"
    },
    {
     "data": {
      "text/plain": [
       "2923822"
      ]
     },
     "execution_count": 2,
     "metadata": {},
     "output_type": "execute_result"
    }
   ],
   "source": [
    "import os\n",
    "import rootutils\n",
    "\n",
    "# Set up root utils\n",
    "root = rootutils.setup_root(search_from=\".\", indicator=\".git\")\n",
    "\n",
    "DATA_DIR = root / \"data\"\n",
    "\n",
    "os.makedirs(\"data\", exist_ok=True)\n",
    "\n",
    "# save each split to data\n",
    "final_dataset[\"validation\"].to_parquet(DATA_DIR / \"validation_x2.parquet\")\n",
    "final_dataset[\"labeled\"].to_parquet(DATA_DIR / \"labeled_x2.parquet\")\n",
    "final_dataset[\"unlabeled\"].to_parquet(DATA_DIR / \"unlabeled_x2.parquet\")"
   ]
  },
  {
   "cell_type": "code",
   "execution_count": 3,
   "id": "31ae122d",
   "metadata": {},
   "outputs": [
    {
     "name": "stdout",
     "output_type": "stream",
     "text": [
      "Wrote train_25.parquet with 25 examples\n",
      "Wrote train_50.parquet with 50 examples\n",
      "Wrote train_100.parquet with 100 examples\n",
      "Wrote train_150.parquet with 150 examples\n",
      "Wrote train_200.parquet with 200 examples\n",
      "Wrote train_250.parquet with 250 examples\n",
      "Wrote train_300.parquet with 300 examples\n",
      "Wrote train_350.parquet with 300 examples\n",
      "Wrote train_400.parquet with 300 examples\n",
      "Wrote train_450.parquet with 300 examples\n",
      "Wrote train_500.parquet with 300 examples\n",
      "Wrote train_550.parquet with 300 examples\n",
      "Wrote train_600.parquet with 300 examples\n"
     ]
    }
   ],
   "source": [
    "import pandas as pd\n",
    "\n",
    "# reading the 300-example labeled pool\n",
    "full = pd.read_parquet(DATA_DIR / \"labeled.parquet\")\n",
    "\n",
    "# shuffling once so all splits are nested\n",
    "full = full.sample(frac=1, random_state=42).reset_index(drop=True)\n",
    "\n",
    "# sizes\n",
    "sizes = [25, 50, 100, 150, 200, 250, 300, 350, 400, 450, 500, 550, 600]\n",
    "\n",
    "# for each size, take top-n examples and write out\n",
    "for n in sizes:\n",
    "    subset = full.iloc[:n]\n",
    "    subset.to_parquet(DATA_DIR / f\"train_{n}.parquet\", index=False)\n",
    "    print(f\"Wrote train_{n}.parquet with {len(subset)} examples\")\n"
   ]
  },
  {
   "cell_type": "code",
   "execution_count": null,
   "id": "41b9acc8",
   "metadata": {},
   "outputs": [],
   "source": []
  }
 ],
 "metadata": {
  "kernelspec": {
   "display_name": "npr_mc2",
   "language": "python",
   "name": "python3"
  },
  "language_info": {
   "codemirror_mode": {
    "name": "ipython",
    "version": 3
   },
   "file_extension": ".py",
   "mimetype": "text/x-python",
   "name": "python",
   "nbconvert_exporter": "python",
   "pygments_lexer": "ipython3",
   "version": "3.10.16"
  }
 },
 "nbformat": 4,
 "nbformat_minor": 5
}
