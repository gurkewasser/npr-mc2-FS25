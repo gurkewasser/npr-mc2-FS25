{
 "cells": [
  {
   "cell_type": "markdown",
   "id": "151c7c06",
   "metadata": {},
   "source": [
    "### 📊 Dataset Preparation Summary\n",
    "\n",
    "To make the large Amazon Polarity dataset more manageable and suitable for experimentation in a semi-supervised learning setup, we created a balanced and downsized subset of **4,000 samples**. This subset was split as follows:\n",
    "\n",
    "- **Validation Set**: 400 samples (200 positive, 200 negative)  \n",
    "- **Labeled Training Set**: 300 samples (150 positive, 150 negative)  \n",
    "- **Unlabeled Training Set**: 3,300 samples (1,650 positive, 1,650 negative)\n",
    "\n",
    "Each subset maintains a **50/50 class balance** to ensure fairness during training and evaluation.\n",
    "\n",
    "The splits were saved in `.parquet` format to the `/data` directory for efficient storage and faster I/O operations during development.\n",
    "\n",
    "This setup enables easy experimentation with semi-supervised learning approaches, where only a small fraction of the data is labeled."
   ]
  },
  {
   "cell_type": "code",
   "execution_count": 1,
   "id": "6f76de44",
   "metadata": {},
   "outputs": [
    {
     "name": "stdout",
     "output_type": "stream",
     "text": [
      "Validation: Counter({1: 400, 0: 400})\n",
      "Labeled: Counter({0: 200, 1: 200})\n",
      "Unlabeled: Counter({1: 1400, 0: 1400})\n",
      "Total samples: 4000\n"
     ]
    }
   ],
   "source": [
    "from datasets import load_dataset, Dataset, DatasetDict\n",
    "from collections import Counter\n",
    "import random\n",
    "\n",
    "# Load and shuffle dataset\n",
    "dataset = load_dataset(\"fancyzhx/amazon_polarity\", split=\"train\").shuffle(seed=42)\n",
    "\n",
    "# Separate by label\n",
    "positives = [x for x in dataset if x['label'] == 1]\n",
    "negatives = [x for x in dataset if x['label'] == 0]\n",
    "\n",
    "# Take only 2000 positive and 2000 negative (total ~4000)\n",
    "positives = positives[:2000]\n",
    "negatives = negatives[:2000]\n",
    "\n",
    "# 400 pos + 400 neg for validation\n",
    "val_pos = positives[:400]\n",
    "val_neg = negatives[:400]\n",
    "\n",
    "# 200 pos + 200 neg for labeled (total 400)\n",
    "labeled_pos = positives[400:600]\n",
    "labeled_neg = negatives[400:600]\n",
    "\n",
    "# 1400 pos + 1400 neg for unlabeled (rest)\n",
    "unlabeled_pos = positives[600:2000]\n",
    "unlabeled_neg = negatives[600:2000]\n",
    "\n",
    "# Convert to HF Datasets\n",
    "validation = Dataset.from_list(val_pos + val_neg).shuffle(seed=42)\n",
    "labeled = Dataset.from_list(labeled_pos + labeled_neg).shuffle(seed=42)\n",
    "unlabeled = Dataset.from_list(unlabeled_pos + unlabeled_neg).shuffle(seed=42)\n",
    "\n",
    "# Wrap into DatasetDict\n",
    "final_dataset = DatasetDict({\n",
    "    \"validation\": validation,\n",
    "    \"labeled\": labeled,\n",
    "    \"unlabeled\": unlabeled\n",
    "})\n",
    "\n",
    "# Check counts\n",
    "print(\"Validation:\", Counter(final_dataset[\"validation\"][\"label\"]))\n",
    "print(\"Labeled:\", Counter(final_dataset[\"labeled\"][\"label\"]))\n",
    "print(\"Unlabeled:\", Counter(final_dataset[\"unlabeled\"][\"label\"]))\n",
    "total = len(validation) + len(labeled) + len(unlabeled)\n",
    "print(\"Total samples:\", total)"
   ]
  },
  {
   "cell_type": "markdown",
   "id": "43542983",
   "metadata": {},
   "source": [
    "Save the splits"
   ]
  },
  {
   "cell_type": "code",
   "execution_count": 2,
   "id": "f1362c1b",
   "metadata": {},
   "outputs": [
    {
     "data": {
      "application/vnd.jupyter.widget-view+json": {
       "model_id": "32e6377ad165444996b163e73b3bf7d7",
       "version_major": 2,
       "version_minor": 0
      },
      "text/plain": [
       "Creating parquet from Arrow format:   0%|          | 0/1 [00:00<?, ?ba/s]"
      ]
     },
     "metadata": {},
     "output_type": "display_data"
    },
    {
     "data": {
      "application/vnd.jupyter.widget-view+json": {
       "model_id": "4fa48d5dbc7c445ebb8b65f973b4812d",
       "version_major": 2,
       "version_minor": 0
      },
      "text/plain": [
       "Creating parquet from Arrow format:   0%|          | 0/1 [00:00<?, ?ba/s]"
      ]
     },
     "metadata": {},
     "output_type": "display_data"
    },
    {
     "data": {
      "application/vnd.jupyter.widget-view+json": {
       "model_id": "37b41c1cc05f47a79e339cac98a95a7d",
       "version_major": 2,
       "version_minor": 0
      },
      "text/plain": [
       "Creating parquet from Arrow format:   0%|          | 0/3 [00:00<?, ?ba/s]"
      ]
     },
     "metadata": {},
     "output_type": "display_data"
    },
    {
     "data": {
      "text/plain": [
       "1239076"
      ]
     },
     "execution_count": 2,
     "metadata": {},
     "output_type": "execute_result"
    }
   ],
   "source": [
    "import os\n",
    "import rootutils\n",
    "\n",
    "# Set up root utils\n",
    "root = rootutils.setup_root(search_from=\".\", indicator=\".git\")\n",
    "\n",
    "DATA_DIR = root / \"data\"\n",
    "\n",
    "os.makedirs(\"data\", exist_ok=True)\n",
    "\n",
    "# save each split to data\n",
    "final_dataset[\"validation\"].to_parquet(DATA_DIR / \"validation.parquet\")\n",
    "final_dataset[\"labeled\"].to_parquet(DATA_DIR / \"labeled.parquet\")\n",
    "final_dataset[\"unlabeled\"].to_parquet(DATA_DIR / \"unlabeled.parquet\")"
   ]
  },
  {
   "cell_type": "code",
   "execution_count": 3,
   "id": "31ae122d",
   "metadata": {},
   "outputs": [
    {
     "name": "stdout",
     "output_type": "stream",
     "text": [
      "Wrote train_25.parquet with 25 examples\n",
      "Wrote train_50.parquet with 50 examples\n",
      "Wrote train_100.parquet with 100 examples\n",
      "Wrote train_150.parquet with 150 examples\n",
      "Wrote train_200.parquet with 200 examples\n",
      "Wrote train_250.parquet with 250 examples\n",
      "Wrote train_300.parquet with 300 examples\n",
      "Wrote train_350.parquet with 350 examples\n",
      "Wrote train_400.parquet with 400 examples\n"
     ]
    }
   ],
   "source": [
    "import pandas as pd\n",
    "\n",
    "# reading the 300-example labeled pool\n",
    "full = pd.read_parquet(DATA_DIR / \"labeled.parquet\")\n",
    "\n",
    "# shuffling once so all splits are nested\n",
    "full = full.sample(frac=1, random_state=42).reset_index(drop=True)\n",
    "\n",
    "# sizes\n",
    "sizes = [25, 50, 100, 150, 200, 250, 300, 350, 400]\n",
    "\n",
    "# for each size, take top-n examples and write out\n",
    "for n in sizes:\n",
    "    subset = full.iloc[:n]\n",
    "    subset.to_parquet(DATA_DIR / f\"train_{n}.parquet\", index=False)\n",
    "    print(f\"Wrote train_{n}.parquet with {len(subset)} examples\")\n"
   ]
  }
 ],
 "metadata": {
  "kernelspec": {
   "display_name": "npr_mc2",
   "language": "python",
   "name": "python3"
  },
  "language_info": {
   "codemirror_mode": {
    "name": "ipython",
    "version": 3
   },
   "file_extension": ".py",
   "mimetype": "text/x-python",
   "name": "python",
   "nbconvert_exporter": "python",
   "pygments_lexer": "ipython3",
   "version": "3.10.16"
  }
 },
 "nbformat": 4,
 "nbformat_minor": 5
}
