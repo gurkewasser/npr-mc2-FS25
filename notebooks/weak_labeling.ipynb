{
 "cells": [
  {
   "cell_type": "markdown",
   "metadata": {},
   "source": [
    "# Weak Labeling for Semi-Supervised Sentiment Analysis\n",
    "\n",
    "**Table of Contents**\n",
    "1. [Setup](#setup)  \n",
    "2. [Load datasets](#load-datasets)  \n",
    "3. [Sentence embeddings](#sentence-embeddings)  \n",
    "4. [Evaluation function](#evaluation-function)  \n",
    "5. [Comparison between embedding models](#compare-embeddings)  \n",
    "6. [Approach 1: Logistic Regression](#approach-1)  \n",
    "7. [Approach 2: K-Nearest Neighbors](#approach-2)  \n",
    "8. [Approach 3: Random Forest](#approach-3)  \n",
    "9. [Approach 4: Support Vector Machine](#approach-4)  \n",
    "10. [Comparison of all approaches](#compare-approaches)  \n",
    "11. [Summary](#summary)  \n",
    "12. [Saving the best model](#saving-model)  "
   ]
  },
  {
   "cell_type": "markdown",
   "metadata": {},
   "source": [
    "### Setup"
   ]
  },
  {
   "cell_type": "code",
   "execution_count": 1,
   "metadata": {},
   "outputs": [],
   "source": [
    "from sentence_transformers import SentenceTransformer\n",
    "from sklearn.metrics import classification_report, accuracy_score, precision_recall_fscore_support, confusion_matrix\n",
    "from sklearn.linear_model import LogisticRegression\n",
    "from sklearn.neighbors import KNeighborsClassifier\n",
    "from sklearn.ensemble import RandomForestClassifier\n",
    "from sklearn.svm import SVC\n",
    "import pandas as pd\n",
    "import matplotlib.pyplot as plt\n",
    "import seaborn as sns\n",
    "import joblib\n",
    "import rootutils\n",
    "import os\n",
    "\n",
    "root = rootutils.setup_root(search_from=\".\", indicator=\".git\")\n",
    "\n",
    "DATA_DIR = root / \"data\""
   ]
  },
  {
   "cell_type": "markdown",
   "metadata": {},
   "source": [
    "### Load datasets"
   ]
  },
  {
   "cell_type": "code",
   "execution_count": 2,
   "metadata": {},
   "outputs": [
    {
     "name": "stdout",
     "output_type": "stream",
     "text": [
      "Validation: {1: 400, 0: 400}\n",
      "Labeled   : {0: 200, 1: 200}\n",
      "Unlabeled : {1: 1400, 0: 1400}\n"
     ]
    }
   ],
   "source": [
    "# Load splits\n",
    "validation = pd.read_parquet(os.path.join(DATA_DIR, \"validation.parquet\"))\n",
    "labeled    = pd.read_parquet(os.path.join(DATA_DIR, \"labeled.parquet\"))\n",
    "unlabeled  = pd.read_parquet(os.path.join(DATA_DIR, \"unlabeled.parquet\"))\n",
    "\n",
    "# Quick sanity check\n",
    "print(\"Validation:\", validation.label.value_counts().to_dict())\n",
    "print(\"Labeled   :\", labeled.label.value_counts().to_dict())\n",
    "print(\"Unlabeled :\", unlabeled.label.value_counts().to_dict())"
   ]
  },
  {
   "cell_type": "markdown",
   "metadata": {},
   "source": [
    "### Sentence embeddings"
   ]
  },
  {
   "cell_type": "code",
   "execution_count": 3,
   "metadata": {},
   "outputs": [
    {
     "data": {
      "application/vnd.jupyter.widget-view+json": {
       "model_id": "20046c789a48426aa505f76d35c55245",
       "version_major": 2,
       "version_minor": 0
      },
      "text/plain": [
       "Batches:   0%|          | 0/7 [00:00<?, ?it/s]"
      ]
     },
     "metadata": {},
     "output_type": "display_data"
    },
    {
     "data": {
      "application/vnd.jupyter.widget-view+json": {
       "model_id": "be0b4f48b2bc4dc28a6ae6cf84187485",
       "version_major": 2,
       "version_minor": 0
      },
      "text/plain": [
       "Batches:   0%|          | 0/13 [00:00<?, ?it/s]"
      ]
     },
     "metadata": {},
     "output_type": "display_data"
    },
    {
     "data": {
      "application/vnd.jupyter.widget-view+json": {
       "model_id": "2a697442875041cbb529db881264c1ba",
       "version_major": 2,
       "version_minor": 0
      },
      "text/plain": [
       "Batches:   0%|          | 0/44 [00:00<?, ?it/s]"
      ]
     },
     "metadata": {},
     "output_type": "display_data"
    },
    {
     "data": {
      "application/vnd.jupyter.widget-view+json": {
       "model_id": "88fd681c00984926a2dbdcccb7131f23",
       "version_major": 2,
       "version_minor": 0
      },
      "text/plain": [
       "Batches:   0%|          | 0/7 [00:00<?, ?it/s]"
      ]
     },
     "metadata": {},
     "output_type": "display_data"
    },
    {
     "data": {
      "application/vnd.jupyter.widget-view+json": {
       "model_id": "cbf2d7d6b68449819b79838ce9027cb3",
       "version_major": 2,
       "version_minor": 0
      },
      "text/plain": [
       "Batches:   0%|          | 0/13 [00:00<?, ?it/s]"
      ]
     },
     "metadata": {},
     "output_type": "display_data"
    },
    {
     "data": {
      "application/vnd.jupyter.widget-view+json": {
       "model_id": "b47a7e844f5148ae8faa1591d69d6167",
       "version_major": 2,
       "version_minor": 0
      },
      "text/plain": [
       "Batches:   0%|          | 0/44 [00:00<?, ?it/s]"
      ]
     },
     "metadata": {},
     "output_type": "display_data"
    }
   ],
   "source": [
    "models = {\n",
    "    \"all-MiniLM-L6-v2\": SentenceTransformer(\"all-MiniLM-L6-v2\"),      # fast, small\n",
    "    \"all-mpnet-base-v2\": SentenceTransformer(\"all-mpnet-base-v2\"),    # higher-quality\n",
    "}\n",
    "\n",
    "def embed_texts(model, texts, batch_size=64):\n",
    "    \"\"\"Compute embeddings in batches with progress bar.\"\"\"\n",
    "    return model.encode(texts, batch_size=batch_size, show_progress_bar=True)\n",
    "\n",
    "# Precompute embeddings\n",
    "embeddings = {}\n",
    "for name, model in models.items():\n",
    "    embeddings[name] = {\n",
    "        \"labeled\":    embed_texts(model, labeled[\"content\"].tolist()),\n",
    "        \"validation\": embed_texts(model, validation[\"content\"].tolist()),\n",
    "        \"unlabeled\":  embed_texts(model, unlabeled[\"content\"].tolist()),\n",
    "    }"
   ]
  },
  {
   "cell_type": "markdown",
   "metadata": {},
   "source": [
    "### Evaluation function"
   ]
  },
  {
   "cell_type": "code",
   "execution_count": 4,
   "metadata": {},
   "outputs": [],
   "source": [
    "def evaluate(y_true, y_pred, verbose=True, plot_confusion_matrix=False):\n",
    "    acc = accuracy_score(y_true, y_pred)\n",
    "    prec, rec, f1, _ = precision_recall_fscore_support(y_true, y_pred, average=\"binary\")\n",
    "    report = classification_report(y_true, y_pred)\n",
    "\n",
    "    if verbose:\n",
    "        print(\"===== Evaluation Metrics =====\")\n",
    "        print(f\"Accuracy : {acc:.7f}\")\n",
    "        print(f\"Precision: {prec:.7f}\")\n",
    "        print(f\"Recall   : {rec:.7f}\")\n",
    "        print(f\"F1 Score : {f1:.7f}\")\n",
    "        print(\"\\n===== Classification Report =====\")\n",
    "        print(report)\n",
    "\n",
    "    if plot_confusion_matrix:\n",
    "        cm = confusion_matrix(y_true, y_pred)\n",
    "        sns.heatmap(cm, annot=True, fmt='d', cmap='Blues', cbar=False)\n",
    "        plt.xlabel('Predicted')\n",
    "        plt.ylabel('True')\n",
    "        plt.title('Confusion Matrix')\n",
    "        plt.show()\n",
    "\n",
    "    return {\n",
    "        \"classification_report\": classification_report(y_true, y_pred, output_dict=True),\n",
    "        \"accuracy\": acc,\n",
    "        \"precision\": prec,\n",
    "        \"recall\": rec,\n",
    "        \"f1\": f1\n",
    "    }"
   ]
  },
  {
   "cell_type": "markdown",
   "metadata": {},
   "source": [
    "### Comparison between embedding models"
   ]
  },
  {
   "cell_type": "code",
   "execution_count": 5,
   "metadata": {},
   "outputs": [
    {
     "data": {
      "text/html": [
       "<div>\n",
       "<style scoped>\n",
       "    .dataframe tbody tr th:only-of-type {\n",
       "        vertical-align: middle;\n",
       "    }\n",
       "\n",
       "    .dataframe tbody tr th {\n",
       "        vertical-align: top;\n",
       "    }\n",
       "\n",
       "    .dataframe thead th {\n",
       "        text-align: right;\n",
       "    }\n",
       "</style>\n",
       "<table border=\"1\" class=\"dataframe\">\n",
       "  <thead>\n",
       "    <tr style=\"text-align: right;\">\n",
       "      <th></th>\n",
       "      <th>classification_report</th>\n",
       "      <th>accuracy</th>\n",
       "      <th>precision</th>\n",
       "      <th>recall</th>\n",
       "      <th>f1</th>\n",
       "    </tr>\n",
       "  </thead>\n",
       "  <tbody>\n",
       "    <tr>\n",
       "      <th>all-MiniLM-L6-v2</th>\n",
       "      <td>{'0': {'precision': 0.7735849056603774, 'recal...</td>\n",
       "      <td>0.75375</td>\n",
       "      <td>0.736597</td>\n",
       "      <td>0.79</td>\n",
       "      <td>0.762364</td>\n",
       "    </tr>\n",
       "    <tr>\n",
       "      <th>all-mpnet-base-v2</th>\n",
       "      <td>{'0': {'precision': 0.8350515463917526, 'recal...</td>\n",
       "      <td>0.825</td>\n",
       "      <td>0.815534</td>\n",
       "      <td>0.84</td>\n",
       "      <td>0.827586</td>\n",
       "    </tr>\n",
       "  </tbody>\n",
       "</table>\n",
       "</div>"
      ],
      "text/plain": [
       "                                               classification_report accuracy  \\\n",
       "all-MiniLM-L6-v2   {'0': {'precision': 0.7735849056603774, 'recal...  0.75375   \n",
       "all-mpnet-base-v2  {'0': {'precision': 0.8350515463917526, 'recal...    0.825   \n",
       "\n",
       "                  precision recall        f1  \n",
       "all-MiniLM-L6-v2   0.736597   0.79  0.762364  \n",
       "all-mpnet-base-v2  0.815534   0.84  0.827586  "
      ]
     },
     "execution_count": 5,
     "metadata": {},
     "output_type": "execute_result"
    }
   ],
   "source": [
    "results_embed = {}\n",
    "for name in models:\n",
    "    X_tr = embeddings[name][\"labeled\"]\n",
    "    y_tr = labeled[\"label\"].values\n",
    "    X_val = embeddings[name][\"validation\"]\n",
    "    y_val = validation[\"label\"].values\n",
    "\n",
    "    clf = LogisticRegression(max_iter=1000)\n",
    "    clf.fit(X_tr, y_tr)\n",
    "    preds = clf.predict(X_val)\n",
    "    results_embed[name] = evaluate(y_val, preds, verbose=False)\n",
    "\n",
    "pd.DataFrame(results_embed).T"
   ]
  },
  {
   "cell_type": "code",
   "execution_count": 6,
   "metadata": {},
   "outputs": [
    {
     "name": "stdout",
     "output_type": "stream",
     "text": [
      "Using embedding: all-mpnet-base-v2\n"
     ]
    }
   ],
   "source": [
    "BEST_EMB = max(results_embed, key=lambda k: results_embed[k][\"f1\"])\n",
    "print(\"Using embedding:\", BEST_EMB)"
   ]
  },
  {
   "cell_type": "markdown",
   "metadata": {},
   "source": [
    "### Approach 1: Logistic Regression"
   ]
  },
  {
   "cell_type": "code",
   "execution_count": 7,
   "metadata": {},
   "outputs": [
    {
     "name": "stdout",
     "output_type": "stream",
     "text": [
      "===== Evaluation Metrics =====\n",
      "Accuracy : 0.8353571\n",
      "Precision: 0.8365591\n",
      "Recall   : 0.8335714\n",
      "F1 Score : 0.8350626\n",
      "\n",
      "===== Classification Report =====\n",
      "              precision    recall  f1-score   support\n",
      "\n",
      "           0       0.83      0.84      0.84      1400\n",
      "           1       0.84      0.83      0.84      1400\n",
      "\n",
      "    accuracy                           0.84      2800\n",
      "   macro avg       0.84      0.84      0.84      2800\n",
      "weighted avg       0.84      0.84      0.84      2800\n",
      "\n"
     ]
    },
    {
     "data": {
      "image/png": "[encoded data removed]",
      "text/plain": [
       "<Figure size 640x480 with 1 Axes>"
      ]
     },
     "metadata": {},
     "output_type": "display_data"
    }
   ],
   "source": [
    "# Train on labeled, predict on unlabeled\n",
    "X_lab = embeddings[BEST_EMB][\"labeled\"]\n",
    "y_lab = labeled[\"label\"].values\n",
    "X_unl = embeddings[BEST_EMB][\"unlabeled\"]\n",
    "y_unl = unlabeled[\"label\"].values  # ground truth for evaluation\n",
    "\n",
    "lr = LogisticRegression(max_iter=100_000)\n",
    "lr.fit(X_lab, y_lab)\n",
    "weak_labels_lr = lr.predict(X_unl)\n",
    "\n",
    "metrics_lr = evaluate(y_unl, weak_labels_lr, plot_confusion_matrix=True)"
   ]
  },
  {
   "cell_type": "markdown",
   "metadata": {},
   "source": [
    "### Approach 2: K-Nearest Neighbors"
   ]
  },
  {
   "cell_type": "code",
   "execution_count": 8,
   "metadata": {},
   "outputs": [
    {
     "name": "stdout",
     "output_type": "stream",
     "text": [
      "===== Evaluation Metrics =====\n",
      "Accuracy : 0.7042857\n",
      "Precision: 0.7237872\n",
      "Recall   : 0.6607143\n",
      "F1 Score : 0.6908140\n",
      "\n",
      "===== Classification Report =====\n",
      "              precision    recall  f1-score   support\n",
      "\n",
      "           0       0.69      0.75      0.72      1400\n",
      "           1       0.72      0.66      0.69      1400\n",
      "\n",
      "    accuracy                           0.70      2800\n",
      "   macro avg       0.71      0.70      0.70      2800\n",
      "weighted avg       0.71      0.70      0.70      2800\n",
      "\n"
     ]
    },
    {
     "data": {
      "image/png": "[encoded data removed]",
      "text/plain": [
       "<Figure size 640x480 with 1 Axes>"
      ]
     },
     "metadata": {},
     "output_type": "display_data"
    }
   ],
   "source": [
    "knn = KNeighborsClassifier(n_neighbors=5, weights=\"distance\")\n",
    "knn.fit(X_lab, y_lab)\n",
    "weak_labels_knn = knn.predict(X_unl)\n",
    "\n",
    "metrics_knn = evaluate(y_unl, weak_labels_knn, plot_confusion_matrix=True)"
   ]
  },
  {
   "cell_type": "markdown",
   "metadata": {},
   "source": [
    "### Approach 3: Random Forest"
   ]
  },
  {
   "cell_type": "code",
   "execution_count": 9,
   "metadata": {},
   "outputs": [
    {
     "name": "stdout",
     "output_type": "stream",
     "text": [
      "===== Evaluation Metrics =====\n",
      "Accuracy : 0.7867857\n",
      "Precision: 0.7945708\n",
      "Recall   : 0.7735714\n",
      "F1 Score : 0.7839305\n",
      "\n",
      "===== Classification Report =====\n",
      "              precision    recall  f1-score   support\n",
      "\n",
      "           0       0.78      0.80      0.79      1400\n",
      "           1       0.79      0.77      0.78      1400\n",
      "\n",
      "    accuracy                           0.79      2800\n",
      "   macro avg       0.79      0.79      0.79      2800\n",
      "weighted avg       0.79      0.79      0.79      2800\n",
      "\n"
     ]
    },
    {
     "data": {
      "image/png": "[encoded data removed]",
      "text/plain": [
       "<Figure size 640x480 with 1 Axes>"
      ]
     },
     "metadata": {},
     "output_type": "display_data"
    }
   ],
   "source": [
    "rf = RandomForestClassifier(n_estimators=100, random_state=42)\n",
    "rf.fit(X_lab, y_lab)\n",
    "weak_labels_rf = rf.predict(X_unl)\n",
    "\n",
    "metrics_rf = evaluate(y_unl, weak_labels_rf, plot_confusion_matrix=True)"
   ]
  },
  {
   "cell_type": "markdown",
   "metadata": {},
   "source": [
    "### Approach 4: Support Vector Machine"
   ]
  },
  {
   "cell_type": "code",
   "execution_count": 10,
   "metadata": {},
   "outputs": [
    {
     "name": "stdout",
     "output_type": "stream",
     "text": [
      "===== Evaluation Metrics =====\n",
      "Accuracy : 0.8321429\n",
      "Precision: 0.8242678\n",
      "Recall   : 0.8442857\n",
      "F1 Score : 0.8341567\n",
      "\n",
      "===== Classification Report =====\n",
      "              precision    recall  f1-score   support\n",
      "\n",
      "           0       0.84      0.82      0.83      1400\n",
      "           1       0.82      0.84      0.83      1400\n",
      "\n",
      "    accuracy                           0.83      2800\n",
      "   macro avg       0.83      0.83      0.83      2800\n",
      "weighted avg       0.83      0.83      0.83      2800\n",
      "\n"
     ]
    },
    {
     "data": {
      "image/png": "[encoded data removed]",
      "text/plain": [
       "<Figure size 640x480 with 1 Axes>"
      ]
     },
     "metadata": {},
     "output_type": "display_data"
    }
   ],
   "source": [
    "svm = SVC(kernel=\"rbf\", probability=True, random_state=42)\n",
    "svm.fit(X_lab, y_lab)\n",
    "weak_labels_svm = svm.predict(X_unl)\n",
    "\n",
    "metrics_svm = evaluate(y_unl, weak_labels_svm, plot_confusion_matrix=True)"
   ]
  },
  {
   "cell_type": "markdown",
   "metadata": {},
   "source": [
    "### Comparison of all approaches"
   ]
  },
  {
   "cell_type": "code",
   "execution_count": 11,
   "metadata": {},
   "outputs": [
    {
     "data": {
      "text/html": [
       "<div>\n",
       "<style scoped>\n",
       "    .dataframe tbody tr th:only-of-type {\n",
       "        vertical-align: middle;\n",
       "    }\n",
       "\n",
       "    .dataframe tbody tr th {\n",
       "        vertical-align: top;\n",
       "    }\n",
       "\n",
       "    .dataframe thead th {\n",
       "        text-align: right;\n",
       "    }\n",
       "</style>\n",
       "<table border=\"1\" class=\"dataframe\">\n",
       "  <thead>\n",
       "    <tr style=\"text-align: right;\">\n",
       "      <th></th>\n",
       "      <th>classification_report</th>\n",
       "      <th>accuracy</th>\n",
       "      <th>precision</th>\n",
       "      <th>recall</th>\n",
       "      <th>f1</th>\n",
       "    </tr>\n",
       "  </thead>\n",
       "  <tbody>\n",
       "    <tr>\n",
       "      <th>LogisticRegression</th>\n",
       "      <td>{'0': {'precision': 0.8341637010676156, 'recal...</td>\n",
       "      <td>0.835357</td>\n",
       "      <td>0.836559</td>\n",
       "      <td>0.833571</td>\n",
       "      <td>0.835063</td>\n",
       "    </tr>\n",
       "    <tr>\n",
       "      <th>KNN</th>\n",
       "      <td>{'0': {'precision': 0.687910643889619, 'recall...</td>\n",
       "      <td>0.704286</td>\n",
       "      <td>0.723787</td>\n",
       "      <td>0.660714</td>\n",
       "      <td>0.690814</td>\n",
       "    </tr>\n",
       "    <tr>\n",
       "      <th>RandomForest</th>\n",
       "      <td>{'0': {'precision': 0.7794015309672929, 'recal...</td>\n",
       "      <td>0.786786</td>\n",
       "      <td>0.794571</td>\n",
       "      <td>0.773571</td>\n",
       "      <td>0.783931</td>\n",
       "    </tr>\n",
       "    <tr>\n",
       "      <th>SVM</th>\n",
       "      <td>{'0': {'precision': 0.8404099560761347, 'recal...</td>\n",
       "      <td>0.832143</td>\n",
       "      <td>0.824268</td>\n",
       "      <td>0.844286</td>\n",
       "      <td>0.834157</td>\n",
       "    </tr>\n",
       "  </tbody>\n",
       "</table>\n",
       "</div>"
      ],
      "text/plain": [
       "                                                classification_report  \\\n",
       "LogisticRegression  {'0': {'precision': 0.8341637010676156, 'recal...   \n",
       "KNN                 {'0': {'precision': 0.687910643889619, 'recall...   \n",
       "RandomForest        {'0': {'precision': 0.7794015309672929, 'recal...   \n",
       "SVM                 {'0': {'precision': 0.8404099560761347, 'recal...   \n",
       "\n",
       "                    accuracy precision    recall        f1  \n",
       "LogisticRegression  0.835357  0.836559  0.833571  0.835063  \n",
       "KNN                 0.704286  0.723787  0.660714  0.690814  \n",
       "RandomForest        0.786786  0.794571  0.773571  0.783931  \n",
       "SVM                 0.832143  0.824268  0.844286  0.834157  "
      ]
     },
     "execution_count": 11,
     "metadata": {},
     "output_type": "execute_result"
    }
   ],
   "source": [
    "summary = pd.DataFrame({\n",
    "    \"LogisticRegression\": metrics_lr,\n",
    "    \"KNN\":                metrics_knn,\n",
    "    \"RandomForest\":       metrics_rf,\n",
    "    \"SVM\":                metrics_svm,\n",
    "}).T\n",
    "\n",
    "summary"
   ]
  },
  {
   "cell_type": "markdown",
   "metadata": {},
   "source": [
    "### Saving the best model"
   ]
  },
  {
   "cell_type": "code",
   "execution_count": 12,
   "metadata": {},
   "outputs": [
    {
     "name": "stdout",
     "output_type": "stream",
     "text": [
      "Saved best weak labeler model: LogisticRegression\n"
     ]
    }
   ],
   "source": [
    "# Pick the best weak-labeler by F1\n",
    "best_name = summary[\"f1\"].idxmax()\n",
    "best_clf  = {\"LogisticRegression\": lr,\n",
    "             \"KNN\":                knn,\n",
    "             \"RandomForest\":       rf,\n",
    "             \"SVM\":                svm}[best_name]\n",
    "\n",
    "# Ensure the results/weak_labeling directory exists\n",
    "os.makedirs(\"../results/weak_labeling\", exist_ok=True)\n",
    "\n",
    "# Save to disk in the specified directory\n",
    "save_path = f\"../results/weak_labeling/best_weak_labeler_{best_name}.joblib\"\n",
    "joblib.dump(best_clf, save_path)\n",
    "print(f\"Saved best weak labeler model: {best_name}\")"
   ]
  }
 ],
 "metadata": {
  "kernelspec": {
   "display_name": "npr_mc2",
   "language": "python",
   "name": "python3"
  },
  "language_info": {
   "codemirror_mode": {
    "name": "ipython",
    "version": 3
   },
   "file_extension": ".py",
   "mimetype": "text/x-python",
   "name": "python",
   "nbconvert_exporter": "python",
   "pygments_lexer": "ipython3",
   "version": "3.10.16"
  }
 },
 "nbformat": 4,
 "nbformat_minor": 2
}
